{
 "cells": [
  {
   "cell_type": "markdown",
   "metadata": {},
   "source": [
    "# Restaurant Competitive Landscape "
   ]
  },
  {
   "cell_type": "markdown",
   "metadata": {},
   "source": [
    "### A Clustering Approach to Restaurant Market Segmentation in Toronto"
   ]
  },
  {
   "cell_type": "markdown",
   "metadata": {},
   "source": [
    "##### Business Proposal\n",
    "The current coronovirus pandemic has placed significant strains on Toronto's diverse and once flourishing restaurant scene. As strict counter-measures have confined would-be patrons to their homes, and restaurant owners forced to close their doors, the future of the restaurant business in the city is enshrowded in uncertainty. \n",
    "\n",
    "Now, more than ever, it is critical for restauranteurs to understand their market segment and its competitive landscape to accurately assess the risks they face moving forward. \n",
    "\n",
    "Market segmentation is of course an unsupervised learning problem. To that end, clustering algorithms like k-mean and DBSCAN lend themselves well. In this project, I will be clustering restaurants in Toronto into segments based on the similarities of a subset of features drawn from the Foursquare API. I will then assign each restaurant to a second cluster based on location (i.e restaurants sharing a vicinity will be grouped into \"neighborhoods\"). Hence, each restaurant will be assigned to a cluster based on similarity to other restaurants (according to the restaurant's non-geographic features: price, kind of food, reviews, etc), and to a second 'neighborhood' cluster (ex. Financial District). This will allow restaurants to gauge their 'uniqueness' within a given neighborhood. "
   ]
  },
  {
   "cell_type": "markdown",
   "metadata": {},
   "source": [
    "#### Data Requirements\n",
    "I will be calling the Foursquare API to retreive all (or as many as possible) of the restaurants in Toronto along with comprehensive feature sets including: \n",
    "1. location \n",
    "2. categories\n",
    "3. stats (checkinsCount, usersCount)\n",
    "4. hours\n",
    "5. price\n",
    "6. rating\n",
    "7. createdAt\n",
    "8. likes\n",
    "9. attributes (takesReservations, parkingAvailability) "
   ]
  },
  {
   "cell_type": "code",
   "execution_count": null,
   "metadata": {},
   "outputs": [],
   "source": []
  }
 ],
 "metadata": {
  "kernelspec": {
   "display_name": "Python 3",
   "language": "python",
   "name": "python3"
  },
  "language_info": {
   "codemirror_mode": {
    "name": "ipython",
    "version": 3
   },
   "file_extension": ".py",
   "mimetype": "text/x-python",
   "name": "python",
   "nbconvert_exporter": "python",
   "pygments_lexer": "ipython3",
   "version": "3.7.4"
  }
 },
 "nbformat": 4,
 "nbformat_minor": 2
}
